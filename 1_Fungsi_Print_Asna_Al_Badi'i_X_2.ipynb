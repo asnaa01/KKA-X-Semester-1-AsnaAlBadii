{
  "nbformat": 4,
  "nbformat_minor": 0,
  "metadata": {
    "colab": {
      "provenance": [],
      "authorship_tag": "ABX9TyPZexerQz37Wa58gh5tkuly",
      "include_colab_link": true
    },
    "kernelspec": {
      "name": "python3",
      "display_name": "Python 3"
    },
    "language_info": {
      "name": "python"
    }
  },
  "cells": [
    {
      "cell_type": "markdown",
      "metadata": {
        "id": "view-in-github",
        "colab_type": "text"
      },
      "source": [
        "<a href=\"https://colab.research.google.com/github/asnaa01/KKA-X-Semester-1-AsnaAlBadii/blob/main/1_Fungsi_Print_Asna_Al_Badi'i_X_2.ipynb\" target=\"_parent\"><img src=\"https://colab.research.google.com/assets/colab-badge.svg\" alt=\"Open In Colab\"/></a>"
      ]
    },
    {
      "cell_type": "markdown",
      "source": [
        "Nama : Asna Al Badi'i\n",
        "\n",
        "\n",
        "Kelas: X.2\n",
        "\n",
        "\n",
        "No.Absen : 04"
      ],
      "metadata": {
        "id": "Lx7smORUtqOK"
      }
    },
    {
      "cell_type": "code",
      "execution_count": null,
      "metadata": {
        "id": "wHINrndutDc5"
      },
      "outputs": [],
      "source": []
    },
    {
      "cell_type": "markdown",
      "source": [
        "#Menampilkan Teks Bebas"
      ],
      "metadata": {
        "id": "7NBv6856uxW6"
      }
    },
    {
      "cell_type": "code",
      "source": [
        "print(\"Halo world!\")"
      ],
      "metadata": {
        "colab": {
          "base_uri": "https://localhost:8080/"
        },
        "id": "UEdzhSGhvWwv",
        "outputId": "bae3840d-bdd4-4d08-969c-bb14e108dac7"
      },
      "execution_count": null,
      "outputs": [
        {
          "output_type": "stream",
          "name": "stdout",
          "text": [
            "Halo world!\n"
          ]
        }
      ]
    },
    {
      "cell_type": "code",
      "source": [
        "print(\"Asna Al Badi'i\")"
      ],
      "metadata": {
        "colab": {
          "base_uri": "https://localhost:8080/"
        },
        "id": "AXcDR0hNwc1b",
        "outputId": "62ea3140-a76b-4e60-ffa4-889eec33b3e0"
      },
      "execution_count": null,
      "outputs": [
        {
          "output_type": "stream",
          "name": "stdout",
          "text": [
            "Asna Al Badi'i\n"
          ]
        }
      ]
    },
    {
      "cell_type": "markdown",
      "source": [
        "#Menampilkan Nilai Variabel"
      ],
      "metadata": {
        "id": "wSjdzpi0w3uG"
      }
    },
    {
      "cell_type": "code",
      "source": [
        "berat_badan = 60\n",
        "\n",
        "print(berat_badan)"
      ],
      "metadata": {
        "colab": {
          "base_uri": "https://localhost:8080/"
        },
        "id": "aMV-zeRVxCqz",
        "outputId": "9f152089-6d94-4f3a-825c-9d845fd45fd0"
      },
      "execution_count": null,
      "outputs": [
        {
          "output_type": "stream",
          "name": "stdout",
          "text": [
            "60\n"
          ]
        }
      ]
    },
    {
      "cell_type": "code",
      "source": [
        "Nama = \"Asna Al Badi'i\"\n",
        "\n",
        "print(Nama)"
      ],
      "metadata": {
        "colab": {
          "base_uri": "https://localhost:8080/"
        },
        "id": "kSoeCBqBxwCR",
        "outputId": "b6e0ce3b-0277-4322-909e-833ca0463df1"
      },
      "execution_count": null,
      "outputs": [
        {
          "output_type": "stream",
          "name": "stdout",
          "text": [
            "Asna Al Badi'i\n"
          ]
        }
      ]
    },
    {
      "cell_type": "code",
      "source": [
        "Usia = 14\n",
        "\n",
        "print(Usia)"
      ],
      "metadata": {
        "colab": {
          "base_uri": "https://localhost:8080/"
        },
        "id": "upZnEqxdyPMP",
        "outputId": "d2f46aab-5f4b-4b78-a475-be849c499fd1"
      },
      "execution_count": null,
      "outputs": [
        {
          "output_type": "stream",
          "name": "stdout",
          "text": [
            "14\n"
          ]
        }
      ]
    },
    {
      "cell_type": "markdown",
      "source": [
        "#Menampilkan Teks Bebas dan Nilai Variabel"
      ],
      "metadata": {
        "id": "TK4KGL-Oy1oQ"
      }
    },
    {
      "cell_type": "code",
      "source": [
        "print (\"Berat badan saya adalah\" ,berat_badan, \"Kg.\")"
      ],
      "metadata": {
        "colab": {
          "base_uri": "https://localhost:8080/"
        },
        "id": "KG4sL9vty4-0",
        "outputId": "c97753b3-af86-474b-d8a2-1117f721128f"
      },
      "execution_count": null,
      "outputs": [
        {
          "output_type": "stream",
          "name": "stdout",
          "text": [
            "Berat badan saya adalah 60 Kg.\n"
          ]
        }
      ]
    },
    {
      "cell_type": "code",
      "source": [
        "print (\"Perkenalan nama saya\" ,Nama,\".\")"
      ],
      "metadata": {
        "colab": {
          "base_uri": "https://localhost:8080/"
        },
        "id": "Dpvr89e2zstF",
        "outputId": "62de1974-0560-4ef4-c1fb-a7b54a9817b9"
      },
      "execution_count": null,
      "outputs": [
        {
          "output_type": "stream",
          "name": "stdout",
          "text": [
            "Perkenalan nama saya Asna Al Badi'i .\n"
          ]
        }
      ]
    },
    {
      "cell_type": "code",
      "source": [
        "print (\"Perkenalan nama saya\", Nama + \".\")"
      ],
      "metadata": {
        "colab": {
          "base_uri": "https://localhost:8080/"
        },
        "id": "eM4r1-_E0oTk",
        "outputId": "0a32357b-861b-4c9d-b9d6-c919402cf587"
      },
      "execution_count": null,
      "outputs": [
        {
          "output_type": "stream",
          "name": "stdout",
          "text": [
            "Perkenalan nama saya Asna Al Badi'i.\n"
          ]
        }
      ]
    },
    {
      "cell_type": "code",
      "source": [
        "print(\"Berat badan saya adalah \" + str(berat_badan) + \" Kg.\")"
      ],
      "metadata": {
        "colab": {
          "base_uri": "https://localhost:8080/"
        },
        "id": "ieN9p8mt14BM",
        "outputId": "ad5b246b-fa6c-440d-aa90-1454b04cdcc2"
      },
      "execution_count": null,
      "outputs": [
        {
          "output_type": "stream",
          "name": "stdout",
          "text": [
            "Berat badan saya adalah 60 Kg.\n"
          ]
        }
      ]
    },
    {
      "cell_type": "code",
      "source": [
        "print(f\"Perkenalan nama saya {Nama}.\")"
      ],
      "metadata": {
        "colab": {
          "base_uri": "https://localhost:8080/"
        },
        "id": "s4VOPeg227x9",
        "outputId": "f6c31cbf-d48e-48b4-d42c-9f96453f244d"
      },
      "execution_count": null,
      "outputs": [
        {
          "output_type": "stream",
          "name": "stdout",
          "text": [
            "Perkenalan nama saya Asna Al Badi'i.\n"
          ]
        }
      ]
    },
    {
      "cell_type": "code",
      "source": [
        "print(f\"Berat badan saya adalah {berat_badan}.\")"
      ],
      "metadata": {
        "colab": {
          "base_uri": "https://localhost:8080/"
        },
        "id": "9rY1ezgD3OZG",
        "outputId": "e436f34d-c99d-4cea-cd87-a8158cfbac87"
      },
      "execution_count": null,
      "outputs": [
        {
          "output_type": "stream",
          "name": "stdout",
          "text": [
            "Berat badan saya adalah 60.\n"
          ]
        }
      ]
    },
    {
      "cell_type": "markdown",
      "source": [
        "#Escape Character"
      ],
      "metadata": {
        "id": "j4pxGh8lx2tH"
      }
    },
    {
      "cell_type": "code",
      "source": [
        "print(\"Nama: Asna Al Badi'i\")\n",
        "print(\"Kelas: X.2\")\n",
        "print(\"No. Absen: 08\")"
      ],
      "metadata": {
        "colab": {
          "base_uri": "https://localhost:8080/"
        },
        "id": "eMq1Zd2kx5yz",
        "outputId": "da309a83-547d-42f5-d763-6a4adfcdbc32"
      },
      "execution_count": null,
      "outputs": [
        {
          "output_type": "stream",
          "name": "stdout",
          "text": [
            "Nama: Asna Al Badi'i\n",
            "Kelas: X.2\n",
            "No. Absen: 08\n"
          ]
        }
      ]
    },
    {
      "cell_type": "code",
      "source": [
        "print(\"\"\"Nama: Asna Al Badi'i\n",
        "Kelas: X.2\n",
        "No. Absen: 08\"\"\")"
      ],
      "metadata": {
        "colab": {
          "base_uri": "https://localhost:8080/"
        },
        "id": "XFX0xf-zyJEX",
        "outputId": "1a5d5982-7521-4136-beec-aa30e56952d4"
      },
      "execution_count": null,
      "outputs": [
        {
          "output_type": "stream",
          "name": "stdout",
          "text": [
            "Nama: Asna Al Badi'i \n",
            "Kelas: X.2\n",
            "No. Absen: 08\n"
          ]
        }
      ]
    },
    {
      "cell_type": "code",
      "source": [
        "print(\"Nama\\t\\t: Asna Al Badi'i\\nKelas\\t\\t: X.2\\nNo. Absen\\t: 08\")"
      ],
      "metadata": {
        "colab": {
          "base_uri": "https://localhost:8080/"
        },
        "id": "rqQkzEJYySS4",
        "outputId": "fefff661-2ed5-4fd8-f4b7-a9ea46686e52"
      },
      "execution_count": null,
      "outputs": [
        {
          "output_type": "stream",
          "name": "stdout",
          "text": [
            "Nama\t\t: Asna Al Badi'i\n",
            "Kelas\t\t: X.2\n",
            "No. Absen\t: 08\n"
          ]
        }
      ]
    },
    {
      "cell_type": "code",
      "source": [
        "print('Nama\\t\\t: Ja\\'far shodiq\\nKelas\\t\\t: X.2\\nNo. Absen\\t: 29')"
      ],
      "metadata": {
        "colab": {
          "base_uri": "https://localhost:8080/"
        },
        "id": "rxrbZqTpyYRW",
        "outputId": "6d0f1f2a-ac4a-429b-e9a4-b952db9506bd"
      },
      "execution_count": null,
      "outputs": [
        {
          "output_type": "stream",
          "name": "stdout",
          "text": [
            "Nama\t\t: Ja'far shodiq\n",
            "Kelas\t\t: X.2\n",
            "No. Absen\t: 29\n"
          ]
        }
      ]
    },
    {
      "cell_type": "code",
      "source": [
        "print('Nama\\t\\t: Ja\\'far shodiq\\nKelas\\t\\t: X.2\\nNo. Absen\\t: 29')"
      ],
      "metadata": {
        "colab": {
          "base_uri": "https://localhost:8080/"
        },
        "id": "q_4LFQVDyfVb",
        "outputId": "9637e46e-98e4-4bff-db62-f84d8411b9c2"
      },
      "execution_count": null,
      "outputs": [
        {
          "output_type": "stream",
          "name": "stdout",
          "text": [
            "Nama\t\t: Ja'far shodiq\n",
            "Kelas\t\t: X.2\n",
            "No. Absen\t: 29\n"
          ]
        }
      ]
    },
    {
      "cell_type": "code",
      "source": [
        "print('Bu Shinta mengatakan \"Semua bisa dipelajari\"')"
      ],
      "metadata": {
        "colab": {
          "base_uri": "https://localhost:8080/"
        },
        "id": "BmW1ox95ywwn",
        "outputId": "3746c70b-eccd-4c2c-a176-ef9856f13f84"
      },
      "execution_count": null,
      "outputs": [
        {
          "output_type": "stream",
          "name": "stdout",
          "text": [
            "Bu Shinta mengatakan \"Semua bisa dipelajari\"\n"
          ]
        }
      ]
    },
    {
      "cell_type": "code",
      "source": [
        "print(\"Lokasi file tugas KKA: Local disk D:\\\\KKA\\\\Tugas\")"
      ],
      "metadata": {
        "colab": {
          "base_uri": "https://localhost:8080/"
        },
        "id": "E3UgxdB4yxrI",
        "outputId": "ba746bfe-1249-4a8e-8c22-b01f44f41b82"
      },
      "execution_count": null,
      "outputs": [
        {
          "output_type": "stream",
          "name": "stdout",
          "text": [
            "Lokasi file tugas KKA: Local disk D:\\KKA\\Tugas\n"
          ]
        }
      ]
    },
    {
      "cell_type": "code",
      "source": [
        "print(\"Jadwal Pelajaran Kelas X.2 - MAN Demak 2025/2026\")"
      ],
      "metadata": {
        "colab": {
          "base_uri": "https://localhost:8080/"
        },
        "id": "XtB1KLmxzRAP",
        "outputId": "a96946c6-b49b-4afe-d5cf-f409f62ea043"
      },
      "execution_count": null,
      "outputs": [
        {
          "output_type": "stream",
          "name": "stdout",
          "text": [
            "Jadwal Pelajaran Kelas X.2 - MAN Demak 2025/2026\n"
          ]
        }
      ]
    },
    {
      "cell_type": "code",
      "source": [
        "print(\"================================================\\n\")"
      ],
      "metadata": {
        "colab": {
          "base_uri": "https://localhost:8080/"
        },
        "id": "Ldkm_6JtzThJ",
        "outputId": "9bff9096-1036-44b9-ec57-38075d19e160"
      },
      "execution_count": null,
      "outputs": [
        {
          "output_type": "stream",
          "name": "stdout",
          "text": [
            "================================================\n",
            "\n"
          ]
        }
      ]
    },
    {
      "cell_type": "code",
      "source": [
        "print(\"Jam\\tSenin\\t\\tSelasa\\t\\tRabu\\t\\tKamis\\t\\tJumat\\t\\tSabtu\")"
      ],
      "metadata": {
        "colab": {
          "base_uri": "https://localhost:8080/"
        },
        "id": "r7WO8U_mzUUM",
        "outputId": "a20ea370-1c06-4a51-835a-63937651a3c7"
      },
      "execution_count": null,
      "outputs": [
        {
          "output_type": "stream",
          "name": "stdout",
          "text": [
            "Jam\tSenin\t\tSelasa\t\tRabu\t\tKamis\t\tJumat\t\tSabtu\n"
          ]
        }
      ]
    },
    {
      "cell_type": "code",
      "source": [
        "print(\"Jam 1\\tMat Wajib\\tB. Arab\\t\\tB. Jawa\\t\\tFisika\\t\\tMat Wajib\\tBiologi\")"
      ],
      "metadata": {
        "colab": {
          "base_uri": "https://localhost:8080/"
        },
        "id": "gxOtePgczX_L",
        "outputId": "55c6b579-1da9-4f3b-831f-6f500fe06ed3"
      },
      "execution_count": null,
      "outputs": [
        {
          "output_type": "stream",
          "name": "stdout",
          "text": [
            "Jam 1\tMat Wajib\tB. Arab\t\tB. Jawa\t\tFisika\t\tMat Wajib\tBiologi\n"
          ]
        }
      ]
    },
    {
      "cell_type": "code",
      "source": [
        "print(\"Jam 2\\tMat Wajib\\tB. Arab\\t\\tB. Jawa\\t\\tFisika\\t\\tMat Wajib\\tBiologi\")"
      ],
      "metadata": {
        "colab": {
          "base_uri": "https://localhost:8080/"
        },
        "id": "5yEhjkzSzbTj",
        "outputId": "24dd0768-935b-4a34-9694-f4ae2881bdff"
      },
      "execution_count": null,
      "outputs": [
        {
          "output_type": "stream",
          "name": "stdout",
          "text": [
            "Jam 2\tMat Wajib\tB. Arab\t\tB. Jawa\t\tFisika\t\tMat Wajib\tBiologi\n"
          ]
        }
      ]
    },
    {
      "cell_type": "code",
      "source": [
        "print(\"Jam 3\\tB. Indo\\t\\tPJOK\\t\\tFikih\\t\\tSejarah\\t\\tPend. Pancasila\\tEkonomi\")"
      ],
      "metadata": {
        "colab": {
          "base_uri": "https://localhost:8080/"
        },
        "id": "n-Wn2P50ze1A",
        "outputId": "82a79105-3d40-432b-dc09-8e4a2fb47a03"
      },
      "execution_count": null,
      "outputs": [
        {
          "output_type": "stream",
          "name": "stdout",
          "text": [
            "Jam 3\tB. Indo\t\tPJOK\t\tFikih\t\tSejarah\t\tPend. Pancasila\tEkonomi\n"
          ]
        }
      ]
    },
    {
      "cell_type": "code",
      "source": [
        "print(\"Jam 4\\tB. Indo\\t\\tPJOK\\t\\tFikih\\t\\tSejarah\\t\\tPend. Pancasila\\tEkonomi\")"
      ],
      "metadata": {
        "colab": {
          "base_uri": "https://localhost:8080/"
        },
        "id": "Al6TObs-zirB",
        "outputId": "9890b621-d544-4198-8922-9a434bf2b122"
      },
      "execution_count": null,
      "outputs": [
        {
          "output_type": "stream",
          "name": "stdout",
          "text": [
            "Jam 4\tB. Indo\t\tPJOK\t\tFikih\t\tSejarah\t\tPend. Pancasila\tEkonomi\n"
          ]
        }
      ]
    },
    {
      "cell_type": "code",
      "source": [
        "print(\"Jam 5\\tB. Arab\\t\\tB. Indo\\t\\tKimia\\t\\tBiologi\\t\\tSeni Musik\\tSKI\")"
      ],
      "metadata": {
        "colab": {
          "base_uri": "https://localhost:8080/"
        },
        "id": "Z9HZhSIDznnF",
        "outputId": "0d41047d-55f0-4167-bf42-76d62d8f1948"
      },
      "execution_count": null,
      "outputs": [
        {
          "output_type": "stream",
          "name": "stdout",
          "text": [
            "Jam 5\tB. Arab\t\tB. Indo\t\tKimia\t\tBiologi\t\tSeni Musik\tSKI\n"
          ]
        }
      ]
    },
    {
      "cell_type": "code",
      "source": [
        "print(\"Jam 6\\tB. Arab\\t\\tB. Indo\\t\\tKimia\\t\\tGeografi\\t-\\t\\tSKI\")"
      ],
      "metadata": {
        "colab": {
          "base_uri": "https://localhost:8080/"
        },
        "id": "WAroTQq-zrCJ",
        "outputId": "ffe8b7f9-67ec-4e40-8885-6e7b6f958667"
      },
      "execution_count": null,
      "outputs": [
        {
          "output_type": "stream",
          "name": "stdout",
          "text": [
            "Jam 6\tB. Arab\t\tB. Indo\t\tKimia\t\tGeografi\t-\t\tSKI\n"
          ]
        }
      ]
    },
    {
      "cell_type": "code",
      "source": [
        "print(\"Jam 7\\tB. Ing\\t\\tAkidah A.\\tSeni Musik\\tGeografi\\t-\\t\\tQur\\'an Hadist\")"
      ],
      "metadata": {
        "colab": {
          "base_uri": "https://localhost:8080/"
        },
        "id": "cycL8cqBzuyD",
        "outputId": "105b6a79-40b4-4c7d-fc7e-509f6a4e6aa9"
      },
      "execution_count": null,
      "outputs": [
        {
          "output_type": "stream",
          "name": "stdout",
          "text": [
            "Jam 7\tB. Ing\t\tAkidah A.\tSeni Musik\tGeografi\t-\t\tQur'an Hadist\n"
          ]
        }
      ]
    },
    {
      "cell_type": "code",
      "source": [
        "print(\"Jam 8\\tB. Ing\\t\\tAkidah A.\\tPKWU\\t\\tSosiologi\\t-\\t\\tQur\\'an Hadist\")"
      ],
      "metadata": {
        "colab": {
          "base_uri": "https://localhost:8080/"
        },
        "id": "DqxMGp8-zyrq",
        "outputId": "c5bc7fe1-ef59-48dc-d6fc-f4fc5e1517c4"
      },
      "execution_count": null,
      "outputs": [
        {
          "output_type": "stream",
          "name": "stdout",
          "text": [
            "Jam 8\tB. Ing\t\tAkidah A.\tPKWU\t\tSosiologi\t-\t\tQur'an Hadist\n"
          ]
        }
      ]
    },
    {
      "cell_type": "code",
      "source": [
        "print(\"Jam 9\\tB. Ing\\t\\tBK\\t\\tPKWU\\t\\tSosiologi\\t-\\t\\tKKA\")"
      ],
      "metadata": {
        "colab": {
          "base_uri": "https://localhost:8080/"
        },
        "id": "EkJUXQ35z1-I",
        "outputId": "ab24fe5a-394f-4218-c009-11a29fbc48f5"
      },
      "execution_count": null,
      "outputs": [
        {
          "output_type": "stream",
          "name": "stdout",
          "text": [
            "Jam 9\tB. Ing\t\tBK\t\tPKWU\t\tSosiologi\t-\t\tKKA\n"
          ]
        }
      ]
    },
    {
      "cell_type": "code",
      "source": [
        "print(\"Jam 10\\t-\\t\\t-\\t\\t-\\t\\t-\\t\\t-\\t\\tKKA\")"
      ],
      "metadata": {
        "colab": {
          "base_uri": "https://localhost:8080/"
        },
        "id": "5xYQ68xnz7pJ",
        "outputId": "6bda02d2-beb5-40a4-abc5-39e86977b964"
      },
      "execution_count": null,
      "outputs": [
        {
          "output_type": "stream",
          "name": "stdout",
          "text": [
            "Jam 10\t-\t\t-\t\t-\t\t-\t\t-\t\tKKA\n"
          ]
        }
      ]
    },
    {
      "cell_type": "code",
      "source": [
        "print(\"Jadwal Pelajaran Kelas X.2 - MAN Demak 2025/2026\")\n",
        "print(\"================================================\\n\")\n",
        "\n",
        "print(\"Jam\\tSenin\\t\\tSelasa\\t\\tRabu\\t\\tKamis\\t\\tJumat\\t\\tSabtu\")\n",
        "\n",
        "print(\"Jam 1\\tMat Wajib\\tB. Arab\\t\\tB. Jawa\\t\\tFisika\\t\\tMat Wajib\\tBiologi\")\n",
        "print(\"Jam 2\\tMat Wajib\\tB. Arab\\t\\tB. Jawa\\t\\tFisika\\t\\tMat Wajib\\tBiologi\")\n",
        "print(\"Jam 3\\tB. Indo\\t\\tPJOK\\t\\tFikih\\t\\tSejarah\\t\\tPend. Pancasila\\tEkonomi\")\n",
        "print(\"Jam 4\\tB. Indo\\t\\tPJOK\\t\\tFikih\\t\\tSejarah\\t\\tPend. Pancasila\\tEkonomi\")\n",
        "print(\"Jam 5\\tB. Arab\\t\\tB. Indo\\t\\tKimia\\t\\tBiologi\\t\\tSeni Musik\\tSKI\")\n",
        "print(\"Jam 6\\tB. Arab\\t\\tB. Indo\\t\\tKimia\\t\\tGeografi\\t-\\t\\tSKI\")\n",
        "print(\"Jam 7\\tB. Ing\\t\\tAkidah A.\\tSeni Musik\\tGeografi\\t-\\t\\tQur\\'an Hadist\")\n",
        "print(\"Jam 8\\tB. Ing\\t\\tAkidah A.\\tPKWU\\t\\tSosiologi\\t-\\t\\tQur\\'an Hadist\")\n",
        "print(\"Jam 9\\tB. Ing\\t\\tBK\\t\\tPKWU\\t\\tSosiologi\\t-\\t\\tKKA\")\n",
        "print(\"Jam 10\\t-\\t\\t-\\t\\t-\\t\\t-\\t\\t-\\t\\tKKA\")"
      ],
      "metadata": {
        "colab": {
          "base_uri": "https://localhost:8080/"
        },
        "id": "uTWhIKuR0NDv",
        "outputId": "2375c154-375a-43d4-ec1e-3095d4f06b12"
      },
      "execution_count": null,
      "outputs": [
        {
          "output_type": "stream",
          "name": "stdout",
          "text": [
            "Jadwal Pelajaran Kelas X.2 - MAN Demak 2025/2026\n",
            "================================================\n",
            "\n",
            "Jam\tSenin\t\tSelasa\t\tRabu\t\tKamis\t\tJumat\t\tSabtu\n",
            "Jam 1\tMat Wajib\tB. Arab\t\tB. Jawa\t\tFisika\t\tMat Wajib\tBiologi\n",
            "Jam 2\tMat Wajib\tB. Arab\t\tB. Jawa\t\tFisika\t\tMat Wajib\tBiologi\n",
            "Jam 3\tB. Indo\t\tPJOK\t\tFikih\t\tSejarah\t\tPend. Pancasila\tEkonomi\n",
            "Jam 4\tB. Indo\t\tPJOK\t\tFikih\t\tSejarah\t\tPend. Pancasila\tEkonomi\n",
            "Jam 5\tB. Arab\t\tB. Indo\t\tKimia\t\tBiologi\t\tSeni Musik\tSKI\n",
            "Jam 6\tB. Arab\t\tB. Indo\t\tKimia\t\tGeografi\t-\t\tSKI\n",
            "Jam 7\tB. Ing\t\tAkidah A.\tSeni Musik\tGeografi\t-\t\tQur'an Hadist\n",
            "Jam 8\tB. Ing\t\tAkidah A.\tPKWU\t\tSosiologi\t-\t\tQur'an Hadist\n",
            "Jam 9\tB. Ing\t\tBK\t\tPKWU\t\tSosiologi\t-\t\tKKA\n",
            "Jam 10\t-\t\t-\t\t-\t\t-\t\t-\t\tKKA\n"
          ]
        }
      ]
    }
  ]
}